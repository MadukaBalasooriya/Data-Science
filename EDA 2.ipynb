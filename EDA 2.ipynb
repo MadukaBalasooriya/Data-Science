{
 "cells": [
  {
   "cell_type": "markdown",
   "metadata": {},
   "source": [
    "HomeWork 1\n",
    "Maduka Balasooriya (Access ID:gj7168)\n",
    "\n",
    "\n",
    "This exploratory data analysis is for third grade English Language Arts (ELA) and Math test results for the school year 2016-2017 for the state of Michigan. \n",
    "Reference:\n",
    "The data is downloaded from,\n",
    "http://portal.datadrivendetroit.org/datasets/4539510e3ed84de1995a42ab4de10d86_0\n",
    "\n",
    "\n",
    "We use mainly Pandas Python module along with Seaborn for our analysis.\n",
    "\n"
   ]
  },
  {
   "cell_type": "code",
   "execution_count": 58,
   "metadata": {},
   "outputs": [],
   "source": [
    "import pandas as pd\n",
    "%matplotlib inline\n",
    "import matplotlib.pyplot as plt\n",
    "import seaborn as sns"
   ]
  },
  {
   "cell_type": "code",
   "execution_count": 59,
   "metadata": {},
   "outputs": [],
   "source": [
    "# Retrieve the data into a Pandas DataFrame.\n",
    "ELAMath= pd.read_csv('datasets/ELA_MATH.csv')"
   ]
  },
  {
   "cell_type": "code",
   "execution_count": 60,
   "metadata": {},
   "outputs": [
    {
     "name": "stdout",
     "output_type": "stream",
     "text": [
      "<class 'pandas.core.frame.DataFrame'>\n",
      "RangeIndex: 740 entries, 0 to 739\n",
      "Data columns (total 14 columns):\n",
      "OBJECTID                740 non-null int64\n",
      "GeoID10                 740 non-null int64\n",
      "CityName                740 non-null object\n",
      "CountyName              740 non-null object\n",
      "ELANumAssessed_Calc     622 non-null float64\n",
      "ELATotalMet_Calc        622 non-null float64\n",
      "ELATotalNotMet_Calc     622 non-null float64\n",
      "MATHNumAssessed_Calc    621 non-null float64\n",
      "MATHTotalMet_Calc       621 non-null float64\n",
      "MATHTotalNotMet_Calc    621 non-null float64\n",
      "ELAPctMetCalc           622 non-null float64\n",
      "MATHPctMetCalc          621 non-null float64\n",
      "Shape__Area             740 non-null float64\n",
      "Shape__Length           740 non-null float64\n",
      "dtypes: float64(10), int64(2), object(2)\n",
      "memory usage: 81.0+ KB\n",
      "None\n",
      "   OBJECTID     GeoID10        CityName      CountyName  ELANumAssessed_Calc  \\\n",
      "0         1  2615701620  Almer township  Tuscola County                  NaN   \n",
      "\n",
      "   ELATotalMet_Calc  ELATotalNotMet_Calc  MATHNumAssessed_Calc  \\\n",
      "0               NaN                  NaN                   NaN   \n",
      "\n",
      "   MATHTotalMet_Calc  MATHTotalNotMet_Calc  ELAPctMetCalc  MATHPctMetCalc  \\\n",
      "0                NaN                   NaN            NaN             NaN   \n",
      "\n",
      "   Shape__Area  Shape__Length  \n",
      "0     0.009903       0.405623  \n"
     ]
    }
   ],
   "source": [
    "# Get some summaries of columns and data types.\n",
    "print(ELAMath.info())\n",
    "print(ELAMath.head(1))"
   ]
  },
  {
   "cell_type": "markdown",
   "metadata": {},
   "source": [
    "**Data Cleaning Steps**\n",
    "\n",
    "1)When looking at the data deeply, we can say there are some cities that does not contain information regarding ELA or Math scores. That means, in those cities nobod or less than five student sit for the exam.Also, each variable corresponds to ELA have 622 observations and one observation is missing in Math. Therefore, It is better to delete rows with missing values.\n"
   ]
  },
  {
   "cell_type": "code",
   "execution_count": 85,
   "metadata": {},
   "outputs": [
    {
     "data": {
      "text/plain": [
       "(621, 14)"
      ]
     },
     "execution_count": 85,
     "metadata": {},
     "output_type": "execute_result"
    }
   ],
   "source": [
    "#drop null values\n",
    "ELAMath.dropna(how= 'any').shape"
   ]
  },
  {
   "cell_type": "code",
   "execution_count": 62,
   "metadata": {},
   "outputs": [],
   "source": [
    "ELAMATHclean=ELAMath.dropna(how= 'any')"
   ]
  },
  {
   "cell_type": "code",
   "execution_count": 63,
   "metadata": {},
   "outputs": [
    {
     "name": "stdout",
     "output_type": "stream",
     "text": [
      "<class 'pandas.core.frame.DataFrame'>\n",
      "Int64Index: 621 entries, 1 to 738\n",
      "Data columns (total 14 columns):\n",
      "OBJECTID                621 non-null int64\n",
      "GeoID10                 621 non-null int64\n",
      "CityName                621 non-null object\n",
      "CountyName              621 non-null object\n",
      "ELANumAssessed_Calc     621 non-null float64\n",
      "ELATotalMet_Calc        621 non-null float64\n",
      "ELATotalNotMet_Calc     621 non-null float64\n",
      "MATHNumAssessed_Calc    621 non-null float64\n",
      "MATHTotalMet_Calc       621 non-null float64\n",
      "MATHTotalNotMet_Calc    621 non-null float64\n",
      "ELAPctMetCalc           621 non-null float64\n",
      "MATHPctMetCalc          621 non-null float64\n",
      "Shape__Area             621 non-null float64\n",
      "Shape__Length           621 non-null float64\n",
      "dtypes: float64(10), int64(2), object(2)\n",
      "memory usage: 72.8+ KB\n",
      "None\n",
      "   OBJECTID     GeoID10        CityName      CountyName  ELANumAssessed_Calc  \\\n",
      "1         2  2615700720  Akron township  Tuscola County                 63.0   \n",
      "2         3  2615781840     Vassar city  Tuscola County                 58.0   \n",
      "\n",
      "   ELATotalMet_Calc  ELATotalNotMet_Calc  MATHNumAssessed_Calc  \\\n",
      "1              36.0                 27.0                  63.0   \n",
      "2              21.0                 37.0                  58.0   \n",
      "\n",
      "   MATHTotalMet_Calc  MATHTotalNotMet_Calc  ELAPctMetCalc  MATHPctMetCalc  \\\n",
      "1               40.0                  23.0       0.571429        0.634921   \n",
      "2               22.0                  36.0       0.362069        0.379310   \n",
      "\n",
      "   Shape__Area  Shape__Length  \n",
      "1     0.016427       0.700288  \n",
      "2     0.000628       0.132120  \n"
     ]
    }
   ],
   "source": [
    "print(ELAMATHclean.info())\n",
    "print(ELAMATHclean.head(2))"
   ]
  },
  {
   "cell_type": "markdown",
   "metadata": {},
   "source": [
    "\n",
    "\n",
    "2)The variable 'OBJECTID' which used as an index is no longer meaningfull after remove raws which had missing values. Therefore it is reduntdant. So, the column is removed."
   ]
  },
  {
   "cell_type": "code",
   "execution_count": 64,
   "metadata": {},
   "outputs": [],
   "source": [
    "del ELAMATHclean['OBJECTID']"
   ]
  },
  {
   "cell_type": "markdown",
   "metadata": {},
   "source": [
    "It is better to store the cleaned dataset."
   ]
  },
  {
   "cell_type": "code",
   "execution_count": 65,
   "metadata": {},
   "outputs": [],
   "source": [
    "ELAMATHclean.to_csv(\"datasets/ELAMATHclean.csv\")"
   ]
  },
  {
   "cell_type": "code",
   "execution_count": 66,
   "metadata": {},
   "outputs": [
    {
     "name": "stdout",
     "output_type": "stream",
     "text": [
      "<class 'pandas.core.frame.DataFrame'>\n",
      "Int64Index: 621 entries, 1 to 738\n",
      "Data columns (total 13 columns):\n",
      "GeoID10                 621 non-null int64\n",
      "CityName                621 non-null object\n",
      "CountyName              621 non-null object\n",
      "ELANumAssessed_Calc     621 non-null float64\n",
      "ELATotalMet_Calc        621 non-null float64\n",
      "ELATotalNotMet_Calc     621 non-null float64\n",
      "MATHNumAssessed_Calc    621 non-null float64\n",
      "MATHTotalMet_Calc       621 non-null float64\n",
      "MATHTotalNotMet_Calc    621 non-null float64\n",
      "ELAPctMetCalc           621 non-null float64\n",
      "MATHPctMetCalc          621 non-null float64\n",
      "Shape__Area             621 non-null float64\n",
      "Shape__Length           621 non-null float64\n",
      "dtypes: float64(10), int64(1), object(2)\n",
      "memory usage: 67.9+ KB\n",
      "None\n"
     ]
    }
   ],
   "source": [
    "print(ELAMATHclean.info())"
   ]
  },
  {
   "cell_type": "markdown",
   "metadata": {},
   "source": [
    "Now data is clean. Lets look at the data in detail.\n"
   ]
  },
  {
   "cell_type": "markdown",
   "metadata": {},
   "source": [
    "**Question** \n",
    "Each city is one observation. How many counties are there which include all cities?\n",
    "\n",
    "It will be interesting to find the total number of unique counties."
   ]
  },
  {
   "cell_type": "code",
   "execution_count": 67,
   "metadata": {},
   "outputs": [
    {
     "name": "stdout",
     "output_type": "stream",
     "text": [
      "82\n"
     ]
    }
   ],
   "source": [
    "print(len(ELAMATHclean['CountyName'].unique()))"
   ]
  },
  {
   "cell_type": "markdown",
   "metadata": {},
   "source": [
    "There are 82 counties which has students who sit for ELA and Math tests.\n"
   ]
  },
  {
   "cell_type": "code",
   "execution_count": 68,
   "metadata": {},
   "outputs": [
    {
     "name": "stdout",
     "output_type": "stream",
     "text": [
      "CountyName\n",
      "Alcona County             1\n",
      "Alger County              3\n",
      "Allegan County           11\n",
      "Alpena County             4\n",
      "Antrim County             8\n",
      "Arenac County             2\n",
      "Baraga County             1\n",
      "Barry County              4\n",
      "Bay County                7\n",
      "Benzie County             3\n",
      "Berrien County           17\n",
      "Branch County             4\n",
      "Calhoun County           11\n",
      "Cass County               4\n",
      "Charlevoix County         5\n",
      "Cheboygan County          3\n",
      "Chippewa County           5\n",
      "Clare County              2\n",
      "Clinton County            6\n",
      "Crawford County           3\n",
      "Delta County              6\n",
      "Dickinson County          4\n",
      "Eaton County             10\n",
      "Emmet County              5\n",
      "Genesee County           24\n",
      "Gladwin County            2\n",
      "Gogebic County            4\n",
      "Grand Traverse County     7\n",
      "Gratiot County            4\n",
      "Hillsdale County          7\n",
      "                         ..\n",
      "Mecosta County            5\n",
      "Menominee County          4\n",
      "Midland County            5\n",
      "Missaukee County          1\n",
      "Monroe County            13\n",
      "Montcalm County           7\n",
      "Montmorency County        4\n",
      "Muskegon County          14\n",
      "Newaygo County            4\n",
      "Oakland County           41\n",
      "Oceana County             4\n",
      "Ogemaw County             1\n",
      "Ontonagon County          2\n",
      "Osceola County            5\n",
      "Oscoda County             2\n",
      "Otsego County             2\n",
      "Ottawa County            17\n",
      "Presque Isle County       3\n",
      "Roscommon County          2\n",
      "Saginaw County           16\n",
      "Sanilac County            9\n",
      "Schoolcraft County        1\n",
      "Shiawassee County         8\n",
      "St. Clair County         14\n",
      "St. Joseph County        10\n",
      "Tuscola County            7\n",
      "Van Buren County         13\n",
      "Washtenaw County         13\n",
      "Wayne County             41\n",
      "Wexford County            5\n",
      "Length: 82, dtype: int64\n"
     ]
    }
   ],
   "source": [
    "county_groups=ELAMATHclean.groupby(['CountyName'], as_index=True)\n",
    "\n",
    "# size gives the number of cities per county\n",
    "print(county_groups.size())\n",
    "\n"
   ]
  },
  {
   "cell_type": "markdown",
   "metadata": {},
   "source": [
    "**Question**\n",
    "What is the total number of students assesed from the test and total number of students pass the test in each county?\n",
    "\n",
    "scatter plot provides us relation between number of students assesed and number of students passed the exam. We expect a linear relation between them.\n",
    "X axis represents number of students pass ELA test and y axis represent number of students sit for ELA test from each county."
   ]
  },
  {
   "cell_type": "code",
   "execution_count": 86,
   "metadata": {},
   "outputs": [],
   "source": [
    "#group the cities which are in same county\n",
    "county_groups_sum = county_groups.sum()"
   ]
  },
  {
   "cell_type": "code",
   "execution_count": 87,
   "metadata": {},
   "outputs": [
    {
     "data": {
      "text/plain": [
       "[Text(0,0.5,'Total students sit for ELT'),\n",
       " Text(0.5,0,'Total students pass for ELT')]"
      ]
     },
     "execution_count": 87,
     "metadata": {},
     "output_type": "execute_result"
    },
    {
     "data": {
      "image/png": "[encoded data removed]",
      "text/plain": [
       "<Figure size 432x288 with 1 Axes>"
      ]
     },
     "metadata": {},
     "output_type": "display_data"
    }
   ],
   "source": [
    "graph = sns.regplot(x=county_groups_sum['ELATotalMet_Calc'],fit_reg=False, y=county_groups_sum['ELANumAssessed_Calc'], color=\"b\", scatter_kws={\"s\":county_groups_sum['ELANumAssessed_Calc']/50})\n",
    "# size of the dot is reduced for the scatter plot by a factor of 50 for good visibility\n",
    "plt.ticklabel_format(style = 'plain')  # remove exponential labels with this setting\n",
    "graph.set(xlabel='Total students pass for ELT', ylabel='Total students sit for ELT')"
   ]
  },
  {
   "cell_type": "markdown",
   "metadata": {},
   "source": [
    "**plot observation**\n",
    "According to the scatter plot, it is clear that, There is a possitive relationship between them.\n",
    "\n",
    "Specially,there are 4 counties out of 82 counties which has higher number of students attend and passed the ELT exam.\n",
    "\n",
    "Lets look at the students who passed Math test."
   ]
  },
  {
   "cell_type": "markdown",
   "metadata": {},
   "source": [
    "There are 4 counties which had higher number of students attend and passed the ELT and MATH exams.\n",
    "\n",
    "Both ELA and MATH tests have similar relationships.\n",
    "\n",
    "Next, look at Boxplot of students passed ELA from counties."
   ]
  },
  {
   "cell_type": "code",
   "execution_count": 71,
   "metadata": {},
   "outputs": [
    {
     "name": "stdout",
     "output_type": "stream",
     "text": [
      "Average number of students who passed ELA from a county :  542.5121951219512\n",
      "Median of number of students who passed ELA from a county :  134.5\n"
     ]
    },
    {
     "data": {
      "image/png": "[encoded data removed]",
      "text/plain": [
       "<Figure size 432x288 with 1 Axes>"
      ]
     },
     "metadata": {},
     "output_type": "display_data"
    }
   ],
   "source": [
    "g1= sns.boxplot(county_groups_sum['ELATotalMet_Calc'])\n",
    "g1.set(xlabel='Number of students pass ELA')\n",
    "print(\"Average number of students who passed ELA from a county : \", county_groups_sum['ELATotalMet_Calc'].mean())\n",
    "print(\"Median of number of students who passed ELA from a county : \", county_groups_sum['ELATotalMet_Calc'].median())"
   ]
  },
  {
   "cell_type": "markdown",
   "metadata": {},
   "source": [
    "**Summary Statistics Analysis**\n",
    "Average number of students pass the ELA test is 542.51 and median is 134.5. This seems there is a huge gap between average and median.\n",
    "The average number of students pass the MATH test is 578.89 and median is 147.\n",
    "This seems there are more students pass MATH test than ELA test since both average and median is higher for students who passed MATH test.\n",
    "\n",
    "**Study top counties**\n",
    "Lets look at top 4 counties which has highest number of students who passed tests (consider MATH test) for our analysis. "
   ]
  },
  {
   "cell_type": "code",
   "execution_count": 72,
   "metadata": {},
   "outputs": [
    {
     "data": {
      "text/html": [
       "<div>\n",
       "<style scoped>\n",
       "    .dataframe tbody tr th:only-of-type {\n",
       "        vertical-align: middle;\n",
       "    }\n",
       "\n",
       "    .dataframe tbody tr th {\n",
       "        vertical-align: top;\n",
       "    }\n",
       "\n",
       "    .dataframe thead th {\n",
       "        text-align: right;\n",
       "    }\n",
       "</style>\n",
       "<table border=\"1\" class=\"dataframe\">\n",
       "  <thead>\n",
       "    <tr style=\"text-align: right;\">\n",
       "      <th></th>\n",
       "      <th>GeoID10</th>\n",
       "      <th>ELANumAssessed_Calc</th>\n",
       "      <th>ELATotalMet_Calc</th>\n",
       "      <th>ELATotalNotMet_Calc</th>\n",
       "      <th>MATHNumAssessed_Calc</th>\n",
       "      <th>MATHTotalMet_Calc</th>\n",
       "      <th>MATHTotalNotMet_Calc</th>\n",
       "      <th>ELAPctMetCalc</th>\n",
       "      <th>MATHPctMetCalc</th>\n",
       "      <th>Shape__Area</th>\n",
       "      <th>Shape__Length</th>\n",
       "    </tr>\n",
       "    <tr>\n",
       "      <th>CountyName</th>\n",
       "      <th></th>\n",
       "      <th></th>\n",
       "      <th></th>\n",
       "      <th></th>\n",
       "      <th></th>\n",
       "      <th></th>\n",
       "      <th></th>\n",
       "      <th></th>\n",
       "      <th></th>\n",
       "      <th></th>\n",
       "      <th></th>\n",
       "    </tr>\n",
       "  </thead>\n",
       "  <tbody>\n",
       "    <tr>\n",
       "      <th>Wayne County</th>\n",
       "      <td>107270307085</td>\n",
       "      <td>20041.0</td>\n",
       "      <td>6584.0</td>\n",
       "      <td>13457.0</td>\n",
       "      <td>20169.0</td>\n",
       "      <td>7127.0</td>\n",
       "      <td>13042.0</td>\n",
       "      <td>18.112611</td>\n",
       "      <td>18.723808</td>\n",
       "      <td>0.184596</td>\n",
       "      <td>12.313724</td>\n",
       "    </tr>\n",
       "    <tr>\n",
       "      <th>Oakland County</th>\n",
       "      <td>107114538770</td>\n",
       "      <td>12633.0</td>\n",
       "      <td>6527.0</td>\n",
       "      <td>6106.0</td>\n",
       "      <td>12744.0</td>\n",
       "      <td>7104.0</td>\n",
       "      <td>5640.0</td>\n",
       "      <td>20.737093</td>\n",
       "      <td>22.590199</td>\n",
       "      <td>0.242848</td>\n",
       "      <td>14.082492</td>\n",
       "    </tr>\n",
       "    <tr>\n",
       "      <th>Macomb County</th>\n",
       "      <td>52198970730</td>\n",
       "      <td>8660.0</td>\n",
       "      <td>3706.0</td>\n",
       "      <td>4954.0</td>\n",
       "      <td>8674.0</td>\n",
       "      <td>4082.0</td>\n",
       "      <td>4592.0</td>\n",
       "      <td>8.796002</td>\n",
       "      <td>9.642944</td>\n",
       "      <td>0.120985</td>\n",
       "      <td>6.467959</td>\n",
       "    </tr>\n",
       "    <tr>\n",
       "      <th>Kent County</th>\n",
       "      <td>62595299820</td>\n",
       "      <td>7328.0</td>\n",
       "      <td>3545.0</td>\n",
       "      <td>3783.0</td>\n",
       "      <td>7365.0</td>\n",
       "      <td>3772.0</td>\n",
       "      <td>3593.0</td>\n",
       "      <td>13.648380</td>\n",
       "      <td>14.393531</td>\n",
       "      <td>0.187168</td>\n",
       "      <td>9.952998</td>\n",
       "    </tr>\n",
       "  </tbody>\n",
       "</table>\n",
       "</div>"
      ],
      "text/plain": [
       "                     GeoID10  ELANumAssessed_Calc  ELATotalMet_Calc  \\\n",
       "CountyName                                                            \n",
       "Wayne County    107270307085              20041.0            6584.0   \n",
       "Oakland County  107114538770              12633.0            6527.0   \n",
       "Macomb County    52198970730               8660.0            3706.0   \n",
       "Kent County      62595299820               7328.0            3545.0   \n",
       "\n",
       "                ELATotalNotMet_Calc  MATHNumAssessed_Calc  MATHTotalMet_Calc  \\\n",
       "CountyName                                                                     \n",
       "Wayne County                13457.0               20169.0             7127.0   \n",
       "Oakland County               6106.0               12744.0             7104.0   \n",
       "Macomb County                4954.0                8674.0             4082.0   \n",
       "Kent County                  3783.0                7365.0             3772.0   \n",
       "\n",
       "                MATHTotalNotMet_Calc  ELAPctMetCalc  MATHPctMetCalc  \\\n",
       "CountyName                                                            \n",
       "Wayne County                 13042.0      18.112611       18.723808   \n",
       "Oakland County                5640.0      20.737093       22.590199   \n",
       "Macomb County                 4592.0       8.796002        9.642944   \n",
       "Kent County                   3593.0      13.648380       14.393531   \n",
       "\n",
       "                Shape__Area  Shape__Length  \n",
       "CountyName                                  \n",
       "Wayne County       0.184596      12.313724  \n",
       "Oakland County     0.242848      14.082492  \n",
       "Macomb County      0.120985       6.467959  \n",
       "Kent County        0.187168       9.952998  "
      ]
     },
     "execution_count": 72,
     "metadata": {},
     "output_type": "execute_result"
    }
   ],
   "source": [
    "n=4\n",
    "top_n_counties = data=county_groups_sum.nlargest(n,'MATHTotalMet_Calc')\n",
    "\n",
    "top_n_counties"
   ]
  },
  {
   "cell_type": "markdown",
   "metadata": {},
   "source": [
    "Wayne, oakland, Macomb and Kent counties has higher number of passed students out of all Michigan counties.\n",
    "\n",
    "Lets look at the bar plot for further clarification."
   ]
  },
  {
   "cell_type": "code",
   "execution_count": 88,
   "metadata": {},
   "outputs": [
    {
     "name": "stdout",
     "output_type": "stream",
     "text": [
      "Average number of students who passed MATH from a county :  578.890243902439\n",
      "Median of number of students who passed MATH from a county :  147.0\n"
     ]
    },
    {
     "data": {
      "image/png": "[encoded data removed]",
      "text/plain": [
       "<Figure size 432x288 with 1 Axes>"
      ]
     },
     "metadata": {},
     "output_type": "display_data"
    }
   ],
   "source": [
    "#draw boxplot\n",
    "g2= sns.boxplot(county_groups_sum['MATHTotalMet_Calc'])\n",
    "g2.set(xlabel='Number of students pass MATH')\n",
    "print(\"Average number of students who passed MATH from a county : \", county_groups_sum['MATHTotalMet_Calc'].mean())\n",
    "print(\"Median of number of students who passed MATH from a county : \", county_groups_sum['MATHTotalMet_Calc'].median())"
   ]
  },
  {
   "cell_type": "code",
   "execution_count": 74,
   "metadata": {},
   "outputs": [
    {
     "data": {
      "image/png": "[encoded data removed]",
      "text/plain": [
       "<Figure size 432x288 with 1 Axes>"
      ]
     },
     "metadata": {},
     "output_type": "display_data"
    }
   ],
   "source": [
    "top_n_counties_names = top_n_counties.index.values\n",
    "\n",
    "# Now to plot the number of students passed Math test in top n counties\n",
    "gr1 = sns.barplot(y=top_n_counties.index, x='MATHTotalMet_Calc', data=top_n_counties)\n",
    "gr1.set(xlabel='Total number of students pass MATH', ylabel='Top counties')\n",
    "plt.show()\n"
   ]
  },
  {
   "cell_type": "markdown",
   "metadata": {},
   "source": [
    "Wayne and Oakland counties have highest number of MATH passed students which is around 7000 and Macomb and Kent counties have passed students around 4000.\n"
   ]
  },
  {
   "cell_type": "code",
   "execution_count": 75,
   "metadata": {},
   "outputs": [
    {
     "data": {
      "image/png": "[encoded data removed]",
      "text/plain": [
       "<Figure size 432x288 with 1 Axes>"
      ]
     },
     "metadata": {},
     "output_type": "display_data"
    }
   ],
   "source": [
    "# Now to plot the number of students passed ELA test in top n counties\n",
    "gr2 = sns.barplot(y=top_n_counties.index, x='ELATotalMet_Calc', data=top_n_counties)\n",
    "gr2.set(xlabel='Total number of students pass ELA', ylabel='Top counties')\n",
    "plt.show()\n"
   ]
  },
  {
   "cell_type": "markdown",
   "metadata": {},
   "source": [
    "Wayne and Oakland counties have highest number of ELA passed students which is around 6500 and Macomb and Kent counties have passed students around 3700. Similar to earlier in top counties also have higher number os MATH passed students than ELA passed students.\n",
    "\n",
    "**Question**\n",
    "Is there a linear relationship between total number of students  sit the test and area of the county? Because we can think that when the area is large, there may have more students sit for the exams."
   ]
  },
  {
   "cell_type": "code",
   "execution_count": 76,
   "metadata": {},
   "outputs": [
    {
     "data": {
      "text/plain": [
       "[Text(0,0.5,'Total area of county'), Text(0.5,0,'Total students sit for ELT')]"
      ]
     },
     "execution_count": 76,
     "metadata": {},
     "output_type": "execute_result"
    },
    {
     "data": {
      "image/png": "[encoded data removed]",
      "text/plain": [
       "<Figure size 432x288 with 1 Axes>"
      ]
     },
     "metadata": {},
     "output_type": "display_data"
    }
   ],
   "source": [
    "grap = sns.regplot(x=county_groups_sum['ELANumAssessed_Calc'],fit_reg=False, y=county_groups_sum['Shape__Area'], color=\"R\", scatter_kws={\"s\":county_groups_sum['Shape__Area']*200})\n",
    "# we reduce the size of the dot for the scatter plot by a factor of 100000 for good visibility\n",
    "plt.ticklabel_format(style = 'plain')  # remove exponential labels with this setting\n",
    "grap.set(xlabel='Total students sit for ELT', ylabel='Total area of county')"
   ]
  },
  {
   "cell_type": "markdown",
   "metadata": {},
   "source": [
    "According to the graph, it is clear that there is a weak possitive relationship. However, it is not a linear positive relation. And also we can see, in some counties the area is large but the number of students who sit for the test is very low."
   ]
  },
  {
   "cell_type": "markdown",
   "metadata": {},
   "source": [
    "**question**\n",
    "Is there more students who passed the ELA test than who failed ELA test?\n",
    "\n",
    "We can use a pie chart to compare the total number of students who passed and failed the ELA test in MI state."
   ]
  },
  {
   "cell_type": "code",
   "execution_count": 77,
   "metadata": {},
   "outputs": [
    {
     "data": {
      "image/png": "[encoded data removed]",
      "text/plain": [
       "<Figure size 432x432 with 1 Axes>"
      ]
     },
     "metadata": {},
     "output_type": "display_data"
    }
   ],
   "source": [
    "count = pd.Series([ELAMATHclean.ELATotalNotMet_Calc.sum(), ELAMATHclean.ELATotalMet_Calc.sum()],index=['Fail', 'Pass'])\n",
    "pie = count.plot.pie( colors=['r', 'g'], autopct='%.2f',fontsize=15, figsize=(6, 6))"
   ]
  },
  {
   "cell_type": "markdown",
   "metadata": {},
   "source": [
    "According to the Pie chart we can conclude that In MI, the total number of students who fail the ELA test is higher than those who pass the test.\n",
    "\n",
    "Lets see is that same for students who sit for MATH test"
   ]
  },
  {
   "cell_type": "code",
   "execution_count": 78,
   "metadata": {},
   "outputs": [
    {
     "data": {
      "image/png": "[encoded data removed]",
      "text/plain": [
       "<Figure size 432x432 with 1 Axes>"
      ]
     },
     "metadata": {},
     "output_type": "display_data"
    }
   ],
   "source": [
    "count2 = pd.Series([ELAMATHclean.MATHTotalNotMet_Calc.sum(), ELAMATHclean.MATHTotalMet_Calc.sum()],index=['Fail', 'Pass'])\n",
    "pie = count2.plot.pie( colors=['r', 'g'], autopct='%.2f',fontsize=15, figsize=(6, 6))"
   ]
  },
  {
   "cell_type": "markdown",
   "metadata": {},
   "source": [
    "It is also similar. However, the percentage of students who passed the MATH test is higher when compare with ELA test results.\n",
    "\n",
    "As a further analysis, we can see what is the correlation between area of each city and number of students passed and sit for tests. Use heat map to identify the relations."
   ]
  },
  {
   "cell_type": "code",
   "execution_count": 84,
   "metadata": {},
   "outputs": [
    {
     "data": {
      "text/plain": [
       "<matplotlib.axes._subplots.AxesSubplot at 0x1fb1f691ef0>"
      ]
     },
     "execution_count": 84,
     "metadata": {},
     "output_type": "execute_result"
    },
    {
     "data": {
      "image/png": "[encoded data removed]",
      "text/plain": [
       "<Figure size 432x288 with 2 Axes>"
      ]
     },
     "metadata": {},
     "output_type": "display_data"
    }
   ],
   "source": [
    "from sklearn.preprocessing import Normalizer\n",
    "subset = ELAMATHclean[['ELATotalMet_Calc','ELANumAssessed_Calc','MATHTotalMet_Calc','MATHNumAssessed_Calc','Shape__Area']]\n",
    "normalized_df = Normalizer().fit_transform(subset)\n",
    "\n",
    "corr = pd.DataFrame(normalized_df).corr()\n",
    "\n",
    "sns.heatmap(corr, annot=True,\n",
    "        xticklabels=subset.columns.values,\n",
    "        yticklabels=subset.columns.values)\n",
    "\n"
   ]
  },
  {
   "cell_type": "markdown",
   "metadata": {},
   "source": [
    "According to the heat map, we can see There is a weak relation between number of students sit and pass the test  and the area of the city. This is because usually there are lot of students in major cities in MI. For example in detroit as the major industrial city most of people live around detroit."
   ]
  },
  {
   "cell_type": "markdown",
   "metadata": {},
   "source": [
    "**Conclusion:**\n",
    "\n",
    "According to the analysis, we can conclude that there are main 4 counties which has more students sit and pass the tests.\n",
    "\n",
    "The area of the city is not matter for the number of people live in the city, which means there is no strong relationship. \n",
    "\n",
    "In entire Michigan state, the number of students fail Grade 3 ELA and MATH tests are higher than the total number of students who pass the tests. This is sad thing when considering education of kids.\n",
    "\n"
   ]
  }
 ],
 "metadata": {
  "kernelspec": {
   "display_name": "Python 3",
   "language": "python",
   "name": "python3"
  },
  "language_info": {
   "codemirror_mode": {
    "name": "ipython",
    "version": 3
   },
   "file_extension": ".py",
   "mimetype": "text/x-python",
   "name": "python",
   "nbconvert_exporter": "python",
   "pygments_lexer": "ipython3",
   "version": "3.6.5"
  }
 },
 "nbformat": 4,
 "nbformat_minor": 2
}
